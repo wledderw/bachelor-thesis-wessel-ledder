{
 "cells": [
  {
   "cell_type": "markdown",
   "id": "752ef72b",
   "metadata": {},
   "source": [
    "# Making a random sampling file\n",
    "\n",
    "To ensure replicability of the experiment.\n",
    "\n",
    "Filename structure:\n",
    "\n",
    "```BRIR_Room_##_RT60_0.#_gx_#.#_fy_#.#_Az_###_El_###_HRotAz_###_HRotEl_###```\n",
    "\n",
    "Each of the hash signs is a variable:\n",
    "\n",
    "- Room number\n",
    "- Noise level\n",
    "- Agent location x, y, z\n",
    "- Azimuth angle of the speaker w.r.t. the agent\n",
    "- Elevation angle of the speaker w.r.t. the agent\n",
    "- Head azimuth angle of the agent\n",
    "- Head elevetation angle of the agent\n",
    "\n",
    "Because we only want to sample initial positions, we already know the agent starts with its head at angle $0,0$. This leaves us with filename structure:\n",
    "\n",
    "```BRIR_Room_##_RT60_0.#_gx_#.#_fy_#.#_Az_###_El_###_HRotAz_000_HRotEl_000```"
   ]
  },
  {
   "cell_type": "code",
   "execution_count": 1,
   "id": "fe3f0e1d",
   "metadata": {},
   "outputs": [],
   "source": [
    "import random"
   ]
  },
  {
   "cell_type": "code",
   "execution_count": 2,
   "id": "96d6d8e6",
   "metadata": {},
   "outputs": [],
   "source": [
    "# Rooms and noise levels always come in pairs.\n",
    "# Per room, there are two agent locations.\n",
    "rooms = (\"Room_01_RT60_0.6_gx_2.5_gy_7.5_gz_1.5_\", \n",
    "         \"Room_01_RT60_0.6_gx_3.5_gy_2.5_gz_1.5_\",\n",
    "         \"Room_02_RT60_0.7_gx_1.5_gy_2.5_gz_1.5_\",\n",
    "         \"Room_02_RT60_0.7_gx_7.5_gy_1.5_gz_1.5_\",\n",
    "         \"Room_03_RT60_0.4_gx_5.5_gy_3.5_gz_1.5_\",\n",
    "         \"Room_03_RT60_0.4_gx_6.5_gy_2.5_gz_1.5_\")\n",
    "\n",
    "# Different azimuth angles, not including the goal at (0,0):\n",
    "azimuth_angles = (\"270\", \"285\", \"300\", \"315\", \"330\", \"345\", \"015\", \"030\", \"045\", \"060\", \"075\", \"090\")\n",
    "\n",
    "# Different elevation angles, not including the goal at (0,0):\n",
    "elevation_angles = (\"-45\", \"-20\", \"020\", \"045\")"
   ]
  },
  {
   "cell_type": "markdown",
   "id": "9ff690f2",
   "metadata": {},
   "source": [
    "We need to do something similar for all samples:"
   ]
  },
  {
   "cell_type": "code",
   "execution_count": 3,
   "id": "e06f15b7",
   "metadata": {},
   "outputs": [],
   "source": [
    "speakers = range(1,41)\n",
    "speakers = [str(x).zfill(2) for x in speakers]\n",
    "samples = range(1,41)\n",
    "samples = [str(x).zfill(2) for x in samples]"
   ]
  },
  {
   "cell_type": "markdown",
   "id": "25f0754d",
   "metadata": {},
   "source": [
    "### Make all combinations:\n",
    "\n",
    "Now we put together the filenames of all possible combinations of BRIR names:"
   ]
  },
  {
   "cell_type": "code",
   "execution_count": 5,
   "id": "56bc3742",
   "metadata": {},
   "outputs": [],
   "source": [
    "speaker_samples = list()\n",
    "for speaker in speakers:\n",
    "    for sample in samples:\n",
    "        speaker_samples.append(\"speaker_\"+speaker+\"_sample_\"+sample+\".flac\")"
   ]
  },
  {
   "cell_type": "code",
   "execution_count": 6,
   "id": "a15138ab",
   "metadata": {},
   "outputs": [],
   "source": [
    "sampling_file = list()\n",
    "for room in rooms:\n",
    "    for az in azimuth_angles:\n",
    "        for el in elevation_angles:\n",
    "            for speaker_sample in speaker_samples:\n",
    "                sampling_file.append(\"BRIR_\"+room+\"Az_\"+az+\"_El_\"+el+\"_HRotAz_000_HRotEl_000.wav \"+speaker_sample)\n",
    "            # audio_files = random.sample(speaker_samples,4) # sample without replacement\n",
    "            # for audio in audio_files:\n",
    "            #     sampling_file.append(\"BRIR_\"+room+\"Az_\"+az+\"_El_\"+el+\"_HRotAz_000_HRotEl_000.wav \"+audio)\n",
    "            #     speaker_samples.remove(audio) # remove from list\n",
    "                \n",
    "# Shuffle:\n",
    "random.shuffle(sampling_file)"
   ]
  },
  {
   "cell_type": "markdown",
   "id": "abb6ca29",
   "metadata": {},
   "source": [
    "### Write files to .txt file:"
   ]
  },
  {
   "cell_type": "code",
   "execution_count": 8,
   "id": "7ff0dbd7",
   "metadata": {},
   "outputs": [],
   "source": [
    "f = open(\"random_sampling_file_no_0.txt\", \"w\")\n",
    "\n",
    "for sampling_combination in sampling_file:\n",
    "    f.write(sampling_combination+\"\\n\")\n",
    "\n",
    "f.close()"
   ]
  },
  {
   "cell_type": "code",
   "execution_count": null,
   "id": "057bd7fe-4d91-4d52-beeb-8965455fa1ec",
   "metadata": {},
   "outputs": [],
   "source": []
  }
 ],
 "metadata": {
  "kernelspec": {
   "display_name": "Python 3 (ipykernel)",
   "language": "python",
   "name": "python3"
  },
  "language_info": {
   "codemirror_mode": {
    "name": "ipython",
    "version": 3
   },
   "file_extension": ".py",
   "mimetype": "text/x-python",
   "name": "python",
   "nbconvert_exporter": "python",
   "pygments_lexer": "ipython3",
   "version": "3.12.3"
  }
 },
 "nbformat": 4,
 "nbformat_minor": 5
}
