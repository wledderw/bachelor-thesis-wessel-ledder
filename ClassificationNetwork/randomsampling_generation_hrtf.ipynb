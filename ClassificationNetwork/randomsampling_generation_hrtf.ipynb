{
 "cells": [
  {
   "cell_type": "code",
   "execution_count": 1,
   "id": "f5b57548-a861-4428-a889-5e81ef1e4f4f",
   "metadata": {},
   "outputs": [],
   "source": [
    "from os import listdir\n",
    "from random import shuffle"
   ]
  },
  {
   "cell_type": "code",
   "execution_count": 2,
   "id": "ae3bfbf1-b18a-4c89-a1b8-adb5c18a032f",
   "metadata": {},
   "outputs": [],
   "source": [
    "azimuth_angles = (\"270\", \"285\", \"300\", \"315\", \"330\", \"345\", \"000\", \"015\", \"030\", \"045\", \"060\", \"075\", \"090\")\n",
    "elevation_angles = (\"-45\", \"-20\", \"000\", \"020\", \"045\")"
   ]
  },
  {
   "cell_type": "code",
   "execution_count": 3,
   "id": "3e020332-13ea-4101-8a2f-85803f7ed283",
   "metadata": {},
   "outputs": [],
   "source": [
    "all_files = listdir(\"C:/Users/Gebruiker/Documents/Artificial Intelligence/B3/S3-4 Bachelor Thesis/classification_network/all_samples_1s\")"
   ]
  },
  {
   "cell_type": "code",
   "execution_count": 4,
   "id": "d49d1e48-785e-4bb4-ba2b-6d04dd2a74cc",
   "metadata": {},
   "outputs": [
    {
     "data": {
      "text/plain": [
       "13484"
      ]
     },
     "execution_count": 4,
     "metadata": {},
     "output_type": "execute_result"
    }
   ],
   "source": [
    "len(all_files)"
   ]
  },
  {
   "cell_type": "code",
   "execution_count": 5,
   "id": "a652f09b-a013-4be1-b36f-7bc83a574d54",
   "metadata": {},
   "outputs": [],
   "source": [
    "file_angle_combi = [file + \" \" + az + \" \" + el for file in all_files for az in azimuth_angles for el in elevation_angles]"
   ]
  },
  {
   "cell_type": "code",
   "execution_count": 6,
   "id": "07c68a83-120a-4876-852d-d64f857c7f5a",
   "metadata": {},
   "outputs": [],
   "source": [
    "shuffle(file_angle_combi)"
   ]
  },
  {
   "cell_type": "code",
   "execution_count": 7,
   "id": "d67a918c-9dcf-4598-b46a-d29f730b2880",
   "metadata": {},
   "outputs": [
    {
     "data": {
      "text/plain": [
       "876460"
      ]
     },
     "execution_count": 7,
     "metadata": {},
     "output_type": "execute_result"
    }
   ],
   "source": [
    "len(file_angle_combi)"
   ]
  },
  {
   "cell_type": "code",
   "execution_count": 8,
   "id": "8758a4fe-7294-46e9-b537-9e4dd29a861a",
   "metadata": {},
   "outputs": [],
   "source": [
    "f = open(\"random_sampling_file_azel.txt\", \"w\")\n",
    "\n",
    "for sampling_combination in file_angle_combi:\n",
    "    f.write(sampling_combination+\"\\n\")\n",
    "\n",
    "f.close()"
   ]
  },
  {
   "cell_type": "code",
   "execution_count": null,
   "id": "78e20d48-948d-493c-b081-ea6519b8c1f3",
   "metadata": {},
   "outputs": [],
   "source": []
  }
 ],
 "metadata": {
  "kernelspec": {
   "display_name": "Python 3 (ipykernel)",
   "language": "python",
   "name": "python3"
  },
  "language_info": {
   "codemirror_mode": {
    "name": "ipython",
    "version": 3
   },
   "file_extension": ".py",
   "mimetype": "text/x-python",
   "name": "python",
   "nbconvert_exporter": "python",
   "pygments_lexer": "ipython3",
   "version": "3.12.3"
  }
 },
 "nbformat": 4,
 "nbformat_minor": 5
}
