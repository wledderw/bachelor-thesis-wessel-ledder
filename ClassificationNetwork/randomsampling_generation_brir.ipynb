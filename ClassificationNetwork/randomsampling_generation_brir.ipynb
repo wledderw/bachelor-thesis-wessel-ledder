{
 "cells": [
  {
   "cell_type": "code",
   "execution_count": 1,
   "id": "f5b57548-a861-4428-a889-5e81ef1e4f4f",
   "metadata": {},
   "outputs": [],
   "source": [
    "from os import listdir\n",
    "from random import shuffle"
   ]
  },
  {
   "cell_type": "code",
   "execution_count": 2,
   "id": "ae3bfbf1-b18a-4c89-a1b8-adb5c18a032f",
   "metadata": {},
   "outputs": [],
   "source": [
    "all_brir = listdir(\"C:/Users/Gebruiker/Documents/Artificial Intelligence/B3/S3-4 Bachelor Thesis/classification_network/BRIRs_downsampled\")"
   ]
  },
  {
   "cell_type": "code",
   "execution_count": 3,
   "id": "3e020332-13ea-4101-8a2f-85803f7ed283",
   "metadata": {},
   "outputs": [],
   "source": [
    "all_files = listdir(\"C:/Users/Gebruiker/Documents/Artificial Intelligence/B3/S3-4 Bachelor Thesis/classification_network/all_samples_500ms\")"
   ]
  },
  {
   "cell_type": "code",
   "execution_count": 4,
   "id": "d49d1e48-785e-4bb4-ba2b-6d04dd2a74cc",
   "metadata": {},
   "outputs": [
    {
     "name": "stdout",
     "output_type": "stream",
     "text": [
      "25350\n",
      "26993\n",
      "26910\n"
     ]
    }
   ],
   "source": [
    "print(len(all_brir))\n",
    "print(len(all_files))\n",
    "\n",
    "# all_brir.filter(lambda x: x.split(\"_\")[12]==\"000\" & x.split(\"_\")[14]==\"000\")\n",
    "\n",
    "all_brir = [brir for brir in all_brir if brir.split(\"_\")[16]==\"000\" and brir.split(\"_\")[18][:3]==\"000\"]*69\n",
    "print(len(all_brir))\n",
    "\n",
    "shuffle(all_brir)\n",
    "shuffle(all_files)"
   ]
  },
  {
   "cell_type": "code",
   "execution_count": 5,
   "id": "a652f09b-a013-4be1-b36f-7bc83a574d54",
   "metadata": {},
   "outputs": [],
   "source": [
    "file_angle_combi = list()\n",
    "for i in range(30):\n",
    "    shuffle(all_brir)\n",
    "    shuffle(all_files)\n",
    "    shuffled_files = all_files[:len(all_brir)]\n",
    "    for j in range(len(shuffled_files)):\n",
    "        file_angle_combi.append(shuffled_files[j] + \" \" + all_brir[j])"
   ]
  },
  {
   "cell_type": "code",
   "execution_count": 6,
   "id": "d67a918c-9dcf-4598-b46a-d29f730b2880",
   "metadata": {},
   "outputs": [
    {
     "data": {
      "text/plain": [
       "807300"
      ]
     },
     "execution_count": 6,
     "metadata": {},
     "output_type": "execute_result"
    }
   ],
   "source": [
    "len(file_angle_combi)"
   ]
  },
  {
   "cell_type": "code",
   "execution_count": 7,
   "id": "8758a4fe-7294-46e9-b537-9e4dd29a861a",
   "metadata": {},
   "outputs": [],
   "source": [
    "f = open(\"random_sampling_file_azel_brir_new.txt\", \"w\")\n",
    "\n",
    "for sampling_combination in file_angle_combi:\n",
    "    f.write(sampling_combination+\"\\n\")\n",
    "\n",
    "f.close()"
   ]
  },
  {
   "cell_type": "code",
   "execution_count": null,
   "id": "78e20d48-948d-493c-b081-ea6519b8c1f3",
   "metadata": {},
   "outputs": [],
   "source": []
  }
 ],
 "metadata": {
  "kernelspec": {
   "display_name": "Python 3 (ipykernel)",
   "language": "python",
   "name": "python3"
  },
  "language_info": {
   "codemirror_mode": {
    "name": "ipython",
    "version": 3
   },
   "file_extension": ".py",
   "mimetype": "text/x-python",
   "name": "python",
   "nbconvert_exporter": "python",
   "pygments_lexer": "ipython3",
   "version": "3.12.3"
  }
 },
 "nbformat": 4,
 "nbformat_minor": 5
}
